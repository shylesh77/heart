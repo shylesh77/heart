{
  "nbformat": 4,
  "nbformat_minor": 0,
  "metadata": {
    "colab": {
      "name": "Untitled12.ipynb",
      "provenance": [],
      "authorship_tag": "ABX9TyMGT4PaHkvTcyMxkH2Tf43F",
      "include_colab_link": true
    },
    "kernelspec": {
      "name": "python3",
      "display_name": "Python 3"
    },
    "language_info": {
      "name": "python"
    }
  },
  "cells": [
    {
      "cell_type": "markdown",
      "metadata": {
        "id": "view-in-github",
        "colab_type": "text"
      },
      "source": [
        "<a href=\"https://colab.research.google.com/github/shylesh77/heart/blob/main/models.ipynb\" target=\"_parent\"><img src=\"https://colab.research.google.com/assets/colab-badge.svg\" alt=\"Open In Colab\"/></a>"
      ]
    },
    {
      "cell_type": "code",
      "execution_count": 1,
      "metadata": {
        "id": "Wxrbk7PFPM1B"
      },
      "outputs": [],
      "source": [
        "from google.colab import drive"
      ]
    },
    {
      "cell_type": "code",
      "source": [
        "drive.mount('/content/drive')"
      ],
      "metadata": {
        "colab": {
          "base_uri": "https://localhost:8080/"
        },
        "id": "yalW_0aDPR_z",
        "outputId": "a33463d0-d855-4f6b-f0c7-ad40c23b4c17"
      },
      "execution_count": 2,
      "outputs": [
        {
          "output_type": "stream",
          "name": "stdout",
          "text": [
            "Mounted at /content/drive\n"
          ]
        }
      ]
    },
    {
      "cell_type": "code",
      "source": [
        "import numpy as np\n",
        "import pandas as pd\n",
        "from sklearn.ensemble import RandomForestClassifier\n",
        "from sklearn.linear_model import LogisticRegression\n",
        "from sklearn.metrics import average_precision_score\n",
        "from sklearn.model_selection import cross_val_score\n",
        "from sklearn.metrics import precision_recall_curve\n",
        "from sklearn.neighbors import KNeighborsClassifier\n",
        "from sklearn.tree import DecisionTreeClassifier\n",
        "from sklearn.metrics import confusion_matrix\n",
        "from sklearn.metrics import accuracy_score\n",
        "from sklearn.naive_bayes import GaussianNB\n",
        "from sklearn.metrics import roc_curve\n",
        "from sklearn.metrics import f1_score\n",
        "from sklearn.metrics import auc\n",
        "from sklearn.svm import SVC"
      ],
      "metadata": {
        "id": "o2fi_kCKPqCL"
      },
      "execution_count": 3,
      "outputs": []
    },
    {
      "cell_type": "code",
      "source": [
        "df=pd.read_csv('/content/drive/My Drive/data science/framingham.csv')\n",
        "df.dropna(axis=0,inplace=True)"
      ],
      "metadata": {
        "id": "yn1lPeZnPxIO"
      },
      "execution_count": 12,
      "outputs": []
    },
    {
      "cell_type": "code",
      "source": [
        "X = df.drop(['TenYearCHD'], axis = 1)\n",
        "y = df.TenYearCHD.values"
      ],
      "metadata": {
        "id": "ZxcxoJw3P1SN"
      },
      "execution_count": 13,
      "outputs": []
    },
    {
      "cell_type": "code",
      "source": [
        "from sklearn.model_selection import train_test_split\n",
        "X_train, X_test, y_train, y_test = train_test_split(X, y, test_size = 0.2, random_state=0)"
      ],
      "metadata": {
        "id": "bFLAyeKbQGV8"
      },
      "execution_count": 14,
      "outputs": []
    },
    {
      "cell_type": "code",
      "source": [
        "from sklearn.preprocessing import StandardScaler\n",
        "sc_X=StandardScaler()\n",
        "X_train=sc_X.fit_transform(X_train)\n",
        "X_test=sc_X.transform(X_test)"
      ],
      "metadata": {
        "id": "5zP-UcIEQJcT"
      },
      "execution_count": 15,
      "outputs": []
    },
    {
      "cell_type": "code",
      "source": [
        "gaussian=GaussianNB()"
      ],
      "metadata": {
        "id": "ATznX_HnQMPD"
      },
      "execution_count": 16,
      "outputs": []
    },
    {
      "cell_type": "code",
      "source": [
        "gaussian.fit(X_train,y_train)"
      ],
      "metadata": {
        "colab": {
          "base_uri": "https://localhost:8080/"
        },
        "id": "8RUQf4v8QPdm",
        "outputId": "5a0d0964-7789-4522-a6f3-58bc005d3c5a"
      },
      "execution_count": 17,
      "outputs": [
        {
          "output_type": "execute_result",
          "data": {
            "text/plain": [
              "GaussianNB()"
            ]
          },
          "metadata": {},
          "execution_count": 17
        }
      ]
    },
    {
      "cell_type": "code",
      "source": [
        "bayes_pred=gaussian.predict(X_test)\n",
        "bayes_cm=confusion_matrix(y_test,bayes_pred)\n",
        "bayes_ac=accuracy_score(bayes_pred,y_test)"
      ],
      "metadata": {
        "id": "32UwacLFQk5d"
      },
      "execution_count": 19,
      "outputs": []
    },
    {
      "cell_type": "code",
      "source": [
        "print('Bayes_accuracy:\\t\\t\\t',bayes_ac)"
      ],
      "metadata": {
        "colab": {
          "base_uri": "https://localhost:8080/"
        },
        "id": "DYuNBh3mQryA",
        "outputId": "b7d8753e-3c07-4888-fbcc-d9aac2fbe428"
      },
      "execution_count": 20,
      "outputs": [
        {
          "output_type": "stream",
          "name": "stdout",
          "text": [
            "Bayes_accuracy:\t\t\t 0.8362183754993342\n"
          ]
        }
      ]
    },
    {
      "cell_type": "code",
      "source": [
        "svc_r=SVC(kernel='rbf')\n",
        "svc_r.fit(X_train,y_train)\n",
        "svr_pred=svc_r.predict(X_test)\n",
        "svr_cm=confusion_matrix(y_test,svr_pred)\n",
        "svr_ac=accuracy_score(y_test, svr_pred)"
      ],
      "metadata": {
        "id": "IHFqSw3pQ4SJ"
      },
      "execution_count": 21,
      "outputs": []
    },
    {
      "cell_type": "code",
      "source": [
        "print('SVM_regressor_accuracy:\\t\\t',svr_ac)"
      ],
      "metadata": {
        "colab": {
          "base_uri": "https://localhost:8080/"
        },
        "id": "NewwfQThQ5-b",
        "outputId": "2edacb60-cae7-4348-d4a9-e22d4162c930"
      },
      "execution_count": 22,
      "outputs": [
        {
          "output_type": "stream",
          "name": "stdout",
          "text": [
            "SVM_regressor_accuracy:\t\t 0.8641810918774967\n"
          ]
        }
      ]
    },
    {
      "cell_type": "code",
      "source": [
        "rdf_c=RandomForestClassifier(n_estimators=10,criterion='entropy',random_state=0)\n",
        "rdf_c.fit(X_train,y_train)\n",
        "rdf_pred=rdf_c.predict(X_test)\n",
        "rdf_cm=confusion_matrix(y_test,rdf_pred)\n",
        "rdf_ac=accuracy_score(rdf_pred,y_test)\n",
        "print('RandomForest_accuracy:\\t\\t',rdf_ac)\n"
      ],
      "metadata": {
        "colab": {
          "base_uri": "https://localhost:8080/"
        },
        "id": "RBAUobqDREmo",
        "outputId": "a5590462-17bf-4d32-d3f4-0b9d30fbcc7b"
      },
      "execution_count": 23,
      "outputs": [
        {
          "output_type": "stream",
          "name": "stdout",
          "text": [
            "RandomForest_accuracy:\t\t 0.8468708388814914\n"
          ]
        }
      ]
    },
    {
      "cell_type": "code",
      "source": [
        "svc_c=SVC(kernel='linear',random_state=0)\n",
        "svc_c.fit(X_train,y_train)\n",
        "svc_pred=svc_c.predict(X_test)\n",
        "sv_cm=confusion_matrix(y_test,svc_pred)\n",
        "sv_ac=accuracy_score(y_test, svc_pred)"
      ],
      "metadata": {
        "id": "G2u3k0mkROBA"
      },
      "execution_count": 24,
      "outputs": []
    },
    {
      "cell_type": "code",
      "source": [
        "print('SVM_classifier_accuracy:\\t',sv_ac)"
      ],
      "metadata": {
        "colab": {
          "base_uri": "https://localhost:8080/"
        },
        "id": "jGaSPCuMRQWY",
        "outputId": "7addf237-fc44-4cf3-fb36-8d7b4d9bea9d"
      },
      "execution_count": 26,
      "outputs": [
        {
          "output_type": "stream",
          "name": "stdout",
          "text": [
            "SVM_classifier_accuracy:\t 0.8615179760319573\n"
          ]
        }
      ]
    },
    {
      "cell_type": "code",
      "source": [
        "dtree_c=DecisionTreeClassifier(criterion='entropy',random_state=0)\n",
        "dtree_c.fit(X_train,y_train)\n",
        "dtree_pred=dtree_c.predict(X_test)\n",
        "dtree_cm=confusion_matrix(y_test,dtree_pred)\n",
        "dtree_ac=accuracy_score(dtree_pred,y_test)\n"
      ],
      "metadata": {
        "id": "wl5bf6W7RXo0"
      },
      "execution_count": 27,
      "outputs": []
    },
    {
      "cell_type": "code",
      "source": [
        "print('DecisionTree_accuracy:\\t\\t',dtree_ac)"
      ],
      "metadata": {
        "colab": {
          "base_uri": "https://localhost:8080/"
        },
        "id": "AQ2M1V1ORcDv",
        "outputId": "aad1856b-99f6-4a94-fc32-94b389cce093"
      },
      "execution_count": 28,
      "outputs": [
        {
          "output_type": "stream",
          "name": "stdout",
          "text": [
            "DecisionTree_accuracy:\t\t 0.7643142476697736\n"
          ]
        }
      ]
    },
    {
      "cell_type": "code",
      "source": [
        "knn=KNeighborsClassifier(n_neighbors=2)\n",
        "knn.fit(X_train,y_train)\n",
        "knn_pred=knn.predict(X_test)\n",
        "knn_cm=confusion_matrix(y_test,knn_pred)\n",
        "knn_ac=accuracy_score(knn_pred,y_test)"
      ],
      "metadata": {
        "id": "hBNZ4KTCRf6C"
      },
      "execution_count": 29,
      "outputs": []
    },
    {
      "cell_type": "code",
      "source": [
        "print('KNN_accuracy:\\t\\t\\t',knn_ac)"
      ],
      "metadata": {
        "colab": {
          "base_uri": "https://localhost:8080/"
        },
        "id": "M9iHFp8rRl1h",
        "outputId": "6d4b52ef-fea6-4d87-a16b-0d1a95bcc4e1"
      },
      "execution_count": 30,
      "outputs": [
        {
          "output_type": "stream",
          "name": "stdout",
          "text": [
            "KNN_accuracy:\t\t\t 0.8388814913448736\n"
          ]
        }
      ]
    },
    {
      "cell_type": "code",
      "source": [
        "lr_c=LogisticRegression(random_state=0)\n",
        "lr_c.fit(X_train,y_train)\n",
        "lr_pred=lr_c.predict(X_test)\n",
        "lr_cm=confusion_matrix(y_test,lr_pred)\n",
        "lr_ac=accuracy_score(y_test, lr_pred)"
      ],
      "metadata": {
        "id": "h6-_F3ieRq5l"
      },
      "execution_count": 31,
      "outputs": []
    },
  
      ]
    }
  ]
}
