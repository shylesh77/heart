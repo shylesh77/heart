{
  "nbformat": 4,
  "nbformat_minor": 0,
  "metadata": {
    "colab": {
      "name": "model.ipynb",
      "provenance": [],
      "collapsed_sections": [],
      "authorship_tag": "ABX9TyMNa3sz6U3cpF2nrDf+8/oD",
      "include_colab_link": true
    },
    "kernelspec": {
      "name": "python3",
      "display_name": "Python 3"
    },
    "language_info": {
      "name": "python"
    }
  },
  "cells": [
    {
      "cell_type": "markdown",
      "metadata": {
        "id": "view-in-github",
        "colab_type": "text"
      },
      "source": [
        "<a href=\"https://colab.research.google.com/github/shylesh77/heart/blob/main/model.ipynb\" target=\"_parent\"><img src=\"https://colab.research.google.com/assets/colab-badge.svg\" alt=\"Open In Colab\"/></a>"
      ]
    },
    {
      "cell_type": "code",
      "execution_count": 1,
      "metadata": {
        "id": "HRVi5wlgXxkQ"
      },
      "outputs": [],
      "source": [
        "from google.colab import drive"
      ]
    },
    {
      "cell_type": "code",
      "source": [
        "drive.mount('/content/drive')"
      ],
      "metadata": {
        "colab": {
          "base_uri": "https://localhost:8080/"
        },
        "id": "tK2VHSrVX9id",
        "outputId": "52a98ca1-f233-405c-a12d-d9c978c4ef6d"
      },
      "execution_count": 2,
      "outputs": [
        {
          "output_type": "stream",
          "name": "stdout",
          "text": [
            "Mounted at /content/drive\n"
          ]
        }
      ]
    },
    {
      "cell_type": "code",
      "source": [
        "import numpy as np\n",
        "import pandas as pd\n",
        "from sklearn.ensemble import RandomForestClassifier\n",
        "from sklearn.metrics import average_precision_score\n",
        "from sklearn.model_selection import cross_val_score\n",
        "from sklearn.metrics import precision_recall_curve\n",
        "from sklearn.neighbors import KNeighborsClassifier\n",
        "from sklearn.tree import DecisionTreeClassifier\n",
        "from sklearn.metrics import confusion_matrix\n",
        "from sklearn.metrics import accuracy_score\n",
        "from sklearn.naive_bayes import GaussianNB\n",
        "from sklearn.metrics import roc_curve\n",
        "from sklearn.metrics import f1_score\n",
        "from sklearn.metrics import auc\n",
        "from sklearn.svm import SVC"
      ],
      "metadata": {
        "id": "UgUtseGeYJWw"
      },
      "execution_count": 3,
      "outputs": []
    },
    {
      "cell_type": "code",
      "source": [
        "df=pd.read_csv('/content/drive/My Drive/data science/framingham.csv')"
      ],
      "metadata": {
        "id": "gN5eOdbUYc0M"
      },
      "execution_count": 4,
      "outputs": []
    },
    {
      "cell_type": "code",
      "source": [
        "df.dropna(axis=0,inplace=True)"
      ],
      "metadata": {
        "id": "0EUiXYPxYfie"
      },
      "execution_count": 5,
      "outputs": []
    },
    {
      "cell_type": "code",
      "source": [
        "X = df.drop(['TenYearCHD'], axis = 1)\n",
        "y = df.TenYearCHD.values"
      ],
      "metadata": {
        "id": "eBIoslNqYhpA"
      },
      "execution_count": 6,
      "outputs": []
    },
    {
      "cell_type": "code",
      "source": [
        "from sklearn.model_selection import train_test_split\n",
        "X_train, X_test, y_train, y_test = train_test_split(X, y, test_size = 0.2, random_state=0)"
      ],
      "metadata": {
        "id": "ULKKIe8aYlNt"
      },
      "execution_count": 7,
      "outputs": []
    },
    {
      "cell_type": "code",
      "source": [
        "from sklearn.preprocessing import StandardScaler\n",
        "sc_X=StandardScaler()\n",
        "X_train=sc_X.fit_transform(X_train)\n",
        "X_test=sc_X.transform(X_test)"
      ],
      "metadata": {
        "id": "gAqo_0f3Yovv"
      },
      "execution_count": 8,
      "outputs": []
    },
    {
      "cell_type": "code",
      "source": [
        "gaussian=GaussianNB()"
      ],
      "metadata": {
        "id": "EKaEIvuNYvaS"
      },
      "execution_count": 9,
      "outputs": []
    },
    {
      "cell_type": "code",
      "source": [
        "gaussian.fit(X_train,y_train)"
      ],
      "metadata": {
        "colab": {
          "base_uri": "https://localhost:8080/"
        },
        "id": "0gx7Fj7fYxfR",
        "outputId": "d8a1fb96-5b93-429c-dc57-c43da334434d"
      },
      "execution_count": 10,
      "outputs": [
        {
          "output_type": "execute_result",
          "data": {
            "text/plain": [
              "GaussianNB()"
            ]
          },
          "metadata": {},
          "execution_count": 10
        }
      ]
    },
    {
      "cell_type": "code",
      "source": [
        "bayes_pred=gaussian.predict(X_test)\n",
        "bayes_cm=confusion_matrix(y_test,bayes_pred)\n",
        "bayes_ac=accuracy_score(bayes_pred,y_test)"
      ],
      "metadata": {
        "id": "mvRonl85YzrK"
      },
      "execution_count": 11,
      "outputs": []
    },
    {
      "cell_type": "code",
      "source": [
        "print('Bayes_accuracy:',bayes_ac)"
      ],
      "metadata": {
        "colab": {
          "base_uri": "https://localhost:8080/"
        },
        "id": "TMKU_IewY7OR",
        "outputId": "416918df-9a2d-4e18-8a12-069587f0c3a4"
      },
      "execution_count": 12,
      "outputs": [
        {
          "output_type": "stream",
          "name": "stdout",
          "text": [
            "Bayes_accuracy: 0.8362183754993342\n"
          ]
        }
      ]
    },
    {
      "cell_type": "code",
      "source": [
        "svc_r=SVC(kernel='rbf')"
      ],
      "metadata": {
        "id": "V425hLddY-H3"
      },
      "execution_count": 13,
      "outputs": []
    },
    {
      "cell_type": "code",
      "source": [
        "svc_r.fit(X_train,y_train)\n",
        "svr_pred=svc_r.predict(X_test)\n",
        "svr_cm=confusion_matrix(y_test,svr_pred)\n",
        "svr_ac=accuracy_score(y_test, svr_pred)"
      ],
      "metadata": {
        "id": "gTEpuE0jZB81"
      },
      "execution_count": 14,
      "outputs": []
    },
    {
      "cell_type": "code",
      "source": [
        "print('SVM_regressor_accuracy:',svr_ac)"
      ],
      "metadata": {
        "colab": {
          "base_uri": "https://localhost:8080/"
        },
        "id": "HXxYTgufZINI",
        "outputId": "3fe9b91e-24f4-4168-bc78-8cda44208b58"
      },
      "execution_count": 15,
      "outputs": [
        {
          "output_type": "stream",
          "name": "stdout",
          "text": [
            "SVM_regressor_accuracy: 0.8641810918774967\n"
          ]
        }
      ]
    },
    {
      "cell_type": "code",
      "source": [
        "rdf_c=RandomForestClassifier(n_estimators=10,criterion='entropy',random_state=0)"
      ],
      "metadata": {
        "id": "PkFMWOx-ZLxz"
      },
      "execution_count": 16,
      "outputs": []
    },
    {
      "cell_type": "code",
      "source": [
        "rdf_c.fit(X_train,y_train)\n",
        "rdf_pred=rdf_c.predict(X_test)\n",
        "rdf_cm=confusion_matrix(y_test,rdf_pred)\n",
        "rdf_ac=accuracy_score(rdf_pred,y_test)\n",
        "print('RandomForest_accuracy:',rdf_ac)"
      ],
      "metadata": {
        "colab": {
          "base_uri": "https://localhost:8080/"
        },
        "id": "dUvzkG9UZUaC",
        "outputId": "2cacb037-e0ed-45f0-f1ff-a8202622e769"
      },
      "execution_count": 17,
      "outputs": [
        {
          "output_type": "stream",
          "name": "stdout",
          "text": [
            "RandomForest_accuracy: 0.8468708388814914\n"
          ]
        }
      ]
    },
    {
      "cell_type": "code",
      "source": [
        "svc_c=SVC(kernel='linear',random_state=0)\n",
        "svc_c.fit(X_train,y_train)\n",
        "svc_pred=svc_c.predict(X_test)\n",
        "sv_cm=confusion_matrix(y_test,svc_pred)\n",
        "sv_ac=accuracy_score(y_test, svc_pred)\n",
        "print('SVM_classifier_accuracy:',sv_ac)"
      ],
      "metadata": {
        "colab": {
          "base_uri": "https://localhost:8080/"
        },
        "id": "utXuxlhnZeqo",
        "outputId": "39d96d7f-8897-4e55-aada-92ce2714fda2"
      },
      "execution_count": 19,
      "outputs": [
        {
          "output_type": "stream",
          "name": "stdout",
          "text": [
            "SVM_classifier_accuracy: 0.8615179760319573\n"
          ]
        }
      ]
    },
    {
      "cell_type": "code",
      "source": [
        "dtree_c=DecisionTreeClassifier(criterion='entropy',random_state=0)\n",
        "dtree_c.fit(X_train,y_train)\n",
        "dtree_pred=dtree_c.predict(X_test)\n",
        "dtree_cm=confusion_matrix(y_test,dtree_pred)\n",
        "dtree_ac=accuracy_score(dtree_pred,y_test)\n",
        "print('DecisionTree_accuracy:',dtree_ac)"
      ],
      "metadata": {
        "colab": {
          "base_uri": "https://localhost:8080/"
        },
        "id": "aarQsUzoZpWW",
        "outputId": "be42cfb0-3345-40f3-df61-347ee7b6f563"
      },
      "execution_count": 20,
      "outputs": [
        {
          "output_type": "stream",
          "name": "stdout",
          "text": [
            "DecisionTree_accuracy: 0.7643142476697736\n"
          ]
        }
      ]
    },
    {
      "cell_type": "code",
      "source": [
        "knn=KNeighborsClassifier(n_neighbors=2)\n",
        "knn.fit(X_train,y_train)\n",
        "knn_pred=knn.predict(X_test)\n",
        "knn_cm=confusion_matrix(y_test,knn_pred)\n",
        "knn_ac=accuracy_score(knn_pred,y_test)\n",
        "print('KNN_accuracy:',knn_ac)"
      ],
      "metadata": {
        "colab": {
          "base_uri": "https://localhost:8080/"
        },
        "id": "vFjAddkfZzTg",
        "outputId": "dee6a8fe-10dd-4da8-965d-f488272447a9"
      },
      "execution_count": 21,
      "outputs": [
        {
          "output_type": "stream",
          "name": "stdout",
          "text": [
            "KNN_accuracy: 0.8388814913448736\n"
          ]
        }
      ]
    },
    {
      "cell_type": "code",
      "source": [
        ""
      ],
      "metadata": {
        "id": "draqgMb9Z7e3"
      },
      "execution_count": null,
      "outputs": []
    }
  ]
}