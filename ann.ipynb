{
  "nbformat": 4,
  "nbformat_minor": 0,
  "metadata": {
    "colab": {
      "name": "Untitled10.ipynb",
      "provenance": [],
      "collapsed_sections": [],
      "authorship_tag": "ABX9TyMzA0Aq9KzLRaRPggDZI6oj",
      "include_colab_link": true
    },
    "kernelspec": {
      "name": "python3",
      "display_name": "Python 3"
    },
    "language_info": {
      "name": "python"
    }
  },
  "cells": [
    {
      "cell_type": "markdown",
      "metadata": {
        "id": "view-in-github",
        "colab_type": "text"
      },
      "source": [
        "<a href=\"https://colab.research.google.com/github/shylesh77/heart/blob/main/ann.ipynb\" target=\"_parent\"><img src=\"https://colab.research.google.com/assets/colab-badge.svg\" alt=\"Open In Colab\"/></a>"
      ]
    },
    {
      "cell_type": "code",
      "execution_count": 8,
      "metadata": {
        "id": "4Qyg5_kmFewi"
      },
      "outputs": [],
      "source": [
        "from google.colab import drive"
      ]
    },
    {
      "cell_type": "code",
      "source": [
        "drive.mount('/content/drive')"
      ],
      "metadata": {
        "colab": {
          "base_uri": "https://localhost:8080/"
        },
        "id": "Zfj1P5x_FpwI",
        "outputId": "3602cd04-6a3f-4614-9b47-36a1787a6e86"
      },
      "execution_count": 18,
      "outputs": [
        {
          "output_type": "stream",
          "name": "stdout",
          "text": [
            "Mounted at /content/drive\n"
          ]
        }
      ]
    },
    {
      "cell_type": "code",
      "source": [
        "import tensorflow as tf\n",
        "import pandas as pd\n",
        "import numpy as np\n",
        "import matplotlib.pyplot as plt\n",
        "import keras\n",
        "from keras.models import Sequential\n",
        "from keras.layers import Dense\n",
        "from sklearn.metrics import confusion_matrix"
      ],
      "metadata": {
        "id": "YeHtcHCEF7yr"
      },
      "execution_count": null,
      "outputs": []
    },
    {
      "cell_type": "code",
      "source": [
        "data=pd.read_csv('/content/drive/My Drive/data science/framingham.csv')"
      ],
      "metadata": {
        "id": "OlMgpobPGC4C"
      },
      "execution_count": 19,
      "outputs": []
    },
    {
      "cell_type": "code",
      "source": [
        "X = data.iloc[:,:13].values\n",
        "y = data[\"TenYearCHD\"].values"
      ],
      "metadata": {
        "id": "uX3avMAuIplq"
      },
      "execution_count": 21,
      "outputs": []
    },
    {
      "cell_type": "code",
      "source": [
        "from sklearn.model_selection import train_test_split"
      ],
      "metadata": {
        "id": "lqZGp2CLIuw6"
      },
      "execution_count": 24,
      "outputs": []
    },
    {
      "cell_type": "code",
      "source": [
        "X_train,X_test,y_train, y_test = train_test_split(X,y,test_size = 0.3 , random_state = 0 )"
      ],
      "metadata": {
        "id": "hXjMmxp6JOGd"
      },
      "execution_count": 25,
      "outputs": []
    },
    {
      "cell_type": "code",
      "source": [
        "from sklearn.preprocessing import StandardScaler\n",
        "sc = StandardScaler()\n",
        "X_train = sc.fit_transform(X_train)\n",
        "X_test = sc.transform(X_test)"
      ],
      "metadata": {
        "id": "-yfox9W5JQDp"
      },
      "execution_count": 27,
      "outputs": []
    },
    {
      "cell_type": "code",
      "source": [
        "classifier = Sequential()\n",
        "classifier.add(Dense(activation = \"relu\", input_dim = 13, \n",
        "                     units = 8, kernel_initializer = \"uniform\"))\n",
        "classifier.add(Dense(activation = \"relu\", units = 14, \n",
        "                     kernel_initializer = \"uniform\"))\n",
        "classifier.add(Dense(activation = \"sigmoid\", units = 1, \n",
        "                     kernel_initializer = \"uniform\"))\n",
        "classifier.compile(optimizer = 'adam' , loss = 'binary_crossentropy', \n",
        "                   metrics = ['accuracy'] )"
      ],
      "metadata": {
        "id": "HpUj8j0BJP9x"
      },
      "execution_count": 28,
      "outputs": []
    },
    {
      "cell_type": "code",
      "source": [
        "classifier.fit(X_train , y_train , batch_size = 8 ,epochs = 100  )"
      ],
      "metadata": {
        "colab": {
          "base_uri": "https://localhost:8080/"
        },
        "id": "1zyWb0fsJXvg",
        "outputId": "ae498cfb-083f-43b6-c8fb-d5d35f9265da"
      },
      "execution_count": 29,
      "outputs": [
        {
          "output_type": "stream",
          "name": "stdout",
          "text": [
            "Epoch 1/100\n",
            "371/371 [==============================] - 1s 1ms/step - loss: nan - accuracy: 0.8484\n",
            "Epoch 2/100\n",
            "371/371 [==============================] - 1s 1ms/step - loss: nan - accuracy: 0.8491\n",
            "Epoch 3/100\n",
            "371/371 [==============================] - 1s 1ms/step - loss: nan - accuracy: 0.8491\n",
            "Epoch 4/100\n",
            "371/371 [==============================] - 1s 1ms/step - loss: nan - accuracy: 0.8491\n",
            "Epoch 5/100\n",
            "371/371 [==============================] - 1s 1ms/step - loss: nan - accuracy: 0.8491\n",
            "Epoch 6/100\n",
            "371/371 [==============================] - 1s 1ms/step - loss: nan - accuracy: 0.8491\n",
            "Epoch 7/100\n",
            "371/371 [==============================] - 1s 1ms/step - loss: nan - accuracy: 0.8491\n",
            "Epoch 8/100\n",
            "371/371 [==============================] - 1s 1ms/step - loss: nan - accuracy: 0.8491\n",
            "Epoch 9/100\n",
            "371/371 [==============================] - 1s 1ms/step - loss: nan - accuracy: 0.8491\n",
            "Epoch 10/100\n",
            "371/371 [==============================] - 1s 1ms/step - loss: nan - accuracy: 0.8491\n",
            "Epoch 11/100\n",
            "371/371 [==============================] - 1s 1ms/step - loss: nan - accuracy: 0.8491\n",
            "Epoch 12/100\n",
            "371/371 [==============================] - 1s 1ms/step - loss: nan - accuracy: 0.8491\n",
            "Epoch 13/100\n",
            "371/371 [==============================] - 1s 1ms/step - loss: nan - accuracy: 0.8491\n",
            "Epoch 14/100\n",
            "371/371 [==============================] - 1s 1ms/step - loss: nan - accuracy: 0.8491\n",
            "Epoch 15/100\n",
            "371/371 [==============================] - 1s 1ms/step - loss: nan - accuracy: 0.8491\n",
            "Epoch 16/100\n",
            "371/371 [==============================] - 1s 1ms/step - loss: nan - accuracy: 0.8491\n",
            "Epoch 17/100\n",
            "371/371 [==============================] - 1s 1ms/step - loss: nan - accuracy: 0.8491\n",
            "Epoch 18/100\n",
            "371/371 [==============================] - 1s 1ms/step - loss: nan - accuracy: 0.8491\n",
            "Epoch 19/100\n",
            "371/371 [==============================] - 1s 1ms/step - loss: nan - accuracy: 0.8491\n",
            "Epoch 20/100\n",
            "371/371 [==============================] - 1s 1ms/step - loss: nan - accuracy: 0.8491\n",
            "Epoch 21/100\n",
            "371/371 [==============================] - 1s 1ms/step - loss: nan - accuracy: 0.8491\n",
            "Epoch 22/100\n",
            "371/371 [==============================] - 1s 1ms/step - loss: nan - accuracy: 0.8491\n",
            "Epoch 23/100\n",
            "371/371 [==============================] - 1s 1ms/step - loss: nan - accuracy: 0.8491\n",
            "Epoch 24/100\n",
            "371/371 [==============================] - 1s 1ms/step - loss: nan - accuracy: 0.8491\n",
            "Epoch 25/100\n",
            "371/371 [==============================] - 1s 1ms/step - loss: nan - accuracy: 0.8491\n",
            "Epoch 26/100\n",
            "371/371 [==============================] - 1s 1ms/step - loss: nan - accuracy: 0.8491\n",
            "Epoch 27/100\n",
            "371/371 [==============================] - 1s 1ms/step - loss: nan - accuracy: 0.8491\n",
            "Epoch 28/100\n",
            "371/371 [==============================] - 1s 1ms/step - loss: nan - accuracy: 0.8491\n",
            "Epoch 29/100\n",
            "371/371 [==============================] - 1s 1ms/step - loss: nan - accuracy: 0.8491\n",
            "Epoch 30/100\n",
            "371/371 [==============================] - 1s 1ms/step - loss: nan - accuracy: 0.8491\n",
            "Epoch 31/100\n",
            "371/371 [==============================] - 1s 1ms/step - loss: nan - accuracy: 0.8491\n",
            "Epoch 32/100\n",
            "371/371 [==============================] - 1s 1ms/step - loss: nan - accuracy: 0.8491\n",
            "Epoch 33/100\n",
            "371/371 [==============================] - 1s 1ms/step - loss: nan - accuracy: 0.8491\n",
            "Epoch 34/100\n",
            "371/371 [==============================] - 1s 1ms/step - loss: nan - accuracy: 0.8491\n",
            "Epoch 35/100\n",
            "371/371 [==============================] - 1s 1ms/step - loss: nan - accuracy: 0.8491\n",
            "Epoch 36/100\n",
            "371/371 [==============================] - 1s 1ms/step - loss: nan - accuracy: 0.8491\n",
            "Epoch 37/100\n",
            "371/371 [==============================] - 1s 1ms/step - loss: nan - accuracy: 0.8491\n",
            "Epoch 38/100\n",
            "371/371 [==============================] - 1s 1ms/step - loss: nan - accuracy: 0.8491\n",
            "Epoch 39/100\n",
            "371/371 [==============================] - 1s 1ms/step - loss: nan - accuracy: 0.8491\n",
            "Epoch 40/100\n",
            "371/371 [==============================] - 1s 2ms/step - loss: nan - accuracy: 0.8491\n",
            "Epoch 41/100\n",
            "371/371 [==============================] - 1s 1ms/step - loss: nan - accuracy: 0.8491\n",
            "Epoch 42/100\n",
            "371/371 [==============================] - 1s 1ms/step - loss: nan - accuracy: 0.8491\n",
            "Epoch 43/100\n",
            "371/371 [==============================] - 1s 1ms/step - loss: nan - accuracy: 0.8491\n",
            "Epoch 44/100\n",
            "371/371 [==============================] - 1s 1ms/step - loss: nan - accuracy: 0.8491\n",
            "Epoch 45/100\n",
            "371/371 [==============================] - 1s 1ms/step - loss: nan - accuracy: 0.8491\n",
            "Epoch 46/100\n",
            "371/371 [==============================] - 1s 1ms/step - loss: nan - accuracy: 0.8491\n",
            "Epoch 47/100\n",
            "371/371 [==============================] - 1s 1ms/step - loss: nan - accuracy: 0.8491\n",
            "Epoch 48/100\n",
            "371/371 [==============================] - 1s 1ms/step - loss: nan - accuracy: 0.8491\n",
            "Epoch 49/100\n",
            "371/371 [==============================] - 1s 1ms/step - loss: nan - accuracy: 0.8491\n",
            "Epoch 50/100\n",
            "371/371 [==============================] - 1s 1ms/step - loss: nan - accuracy: 0.8491\n",
            "Epoch 51/100\n",
            "371/371 [==============================] - 1s 1ms/step - loss: nan - accuracy: 0.8491\n",
            "Epoch 52/100\n",
            "371/371 [==============================] - 1s 1ms/step - loss: nan - accuracy: 0.8491\n",
            "Epoch 53/100\n",
            "371/371 [==============================] - 1s 1ms/step - loss: nan - accuracy: 0.8491\n",
            "Epoch 54/100\n",
            "371/371 [==============================] - 1s 1ms/step - loss: nan - accuracy: 0.8491\n",
            "Epoch 55/100\n",
            "371/371 [==============================] - 1s 1ms/step - loss: nan - accuracy: 0.8491\n",
            "Epoch 56/100\n",
            "371/371 [==============================] - 1s 1ms/step - loss: nan - accuracy: 0.8491\n",
            "Epoch 57/100\n",
            "371/371 [==============================] - 1s 1ms/step - loss: nan - accuracy: 0.8491\n",
            "Epoch 58/100\n",
            "371/371 [==============================] - 1s 1ms/step - loss: nan - accuracy: 0.8491\n",
            "Epoch 59/100\n",
            "371/371 [==============================] - 1s 2ms/step - loss: nan - accuracy: 0.8491\n",
            "Epoch 60/100\n",
            "371/371 [==============================] - 1s 1ms/step - loss: nan - accuracy: 0.8491\n",
            "Epoch 61/100\n",
            "371/371 [==============================] - 1s 1ms/step - loss: nan - accuracy: 0.8491\n",
            "Epoch 62/100\n",
            "371/371 [==============================] - 1s 1ms/step - loss: nan - accuracy: 0.8491\n",
            "Epoch 63/100\n",
            "371/371 [==============================] - 1s 1ms/step - loss: nan - accuracy: 0.8491\n",
            "Epoch 64/100\n",
            "371/371 [==============================] - 1s 1ms/step - loss: nan - accuracy: 0.8491\n",
            "Epoch 65/100\n",
            "371/371 [==============================] - 1s 1ms/step - loss: nan - accuracy: 0.8491\n",
            "Epoch 66/100\n",
            "371/371 [==============================] - 1s 1ms/step - loss: nan - accuracy: 0.8491\n",
            "Epoch 67/100\n",
            "371/371 [==============================] - 1s 1ms/step - loss: nan - accuracy: 0.8491\n",
            "Epoch 68/100\n",
            "371/371 [==============================] - 1s 1ms/step - loss: nan - accuracy: 0.8491\n",
            "Epoch 69/100\n",
            "371/371 [==============================] - 1s 1ms/step - loss: nan - accuracy: 0.8491\n",
            "Epoch 70/100\n",
            "371/371 [==============================] - 1s 1ms/step - loss: nan - accuracy: 0.8491\n",
            "Epoch 71/100\n",
            "371/371 [==============================] - 1s 1ms/step - loss: nan - accuracy: 0.8491\n",
            "Epoch 72/100\n",
            "371/371 [==============================] - 1s 1ms/step - loss: nan - accuracy: 0.8491\n",
            "Epoch 73/100\n",
            "371/371 [==============================] - 1s 1ms/step - loss: nan - accuracy: 0.8491\n",
            "Epoch 74/100\n",
            "371/371 [==============================] - 1s 1ms/step - loss: nan - accuracy: 0.8491\n",
            "Epoch 75/100\n",
            "371/371 [==============================] - 1s 1ms/step - loss: nan - accuracy: 0.8491\n",
            "Epoch 76/100\n",
            "371/371 [==============================] - 1s 1ms/step - loss: nan - accuracy: 0.8491\n",
            "Epoch 77/100\n",
            "371/371 [==============================] - 1s 1ms/step - loss: nan - accuracy: 0.8491\n",
            "Epoch 78/100\n",
            "371/371 [==============================] - 1s 1ms/step - loss: nan - accuracy: 0.8491\n",
            "Epoch 79/100\n",
            "371/371 [==============================] - 1s 1ms/step - loss: nan - accuracy: 0.8491\n",
            "Epoch 80/100\n",
            "371/371 [==============================] - 1s 1ms/step - loss: nan - accuracy: 0.8491\n",
            "Epoch 81/100\n",
            "371/371 [==============================] - 1s 1ms/step - loss: nan - accuracy: 0.8491\n",
            "Epoch 82/100\n",
            "371/371 [==============================] - 1s 1ms/step - loss: nan - accuracy: 0.8491\n",
            "Epoch 83/100\n",
            "371/371 [==============================] - 1s 1ms/step - loss: nan - accuracy: 0.8491\n",
            "Epoch 84/100\n",
            "371/371 [==============================] - 1s 1ms/step - loss: nan - accuracy: 0.8491\n",
            "Epoch 85/100\n",
            "371/371 [==============================] - 1s 1ms/step - loss: nan - accuracy: 0.8491\n",
            "Epoch 86/100\n",
            "371/371 [==============================] - 1s 1ms/step - loss: nan - accuracy: 0.8491\n",
            "Epoch 87/100\n",
            "371/371 [==============================] - 1s 1ms/step - loss: nan - accuracy: 0.8491\n",
            "Epoch 88/100\n",
            "371/371 [==============================] - 1s 1ms/step - loss: nan - accuracy: 0.8491\n",
            "Epoch 89/100\n",
            "371/371 [==============================] - 1s 1ms/step - loss: nan - accuracy: 0.8491\n",
            "Epoch 90/100\n",
            "371/371 [==============================] - 1s 1ms/step - loss: nan - accuracy: 0.8491\n",
            "Epoch 91/100\n",
            "371/371 [==============================] - 1s 1ms/step - loss: nan - accuracy: 0.8491\n",
            "Epoch 92/100\n",
            "371/371 [==============================] - 1s 1ms/step - loss: nan - accuracy: 0.8491\n",
            "Epoch 93/100\n",
            "371/371 [==============================] - 1s 1ms/step - loss: nan - accuracy: 0.8491\n",
            "Epoch 94/100\n",
            "371/371 [==============================] - 1s 1ms/step - loss: nan - accuracy: 0.8491\n",
            "Epoch 95/100\n",
            "371/371 [==============================] - 1s 1ms/step - loss: nan - accuracy: 0.8491\n",
            "Epoch 96/100\n",
            "371/371 [==============================] - 1s 1ms/step - loss: nan - accuracy: 0.8491\n",
            "Epoch 97/100\n",
            "371/371 [==============================] - 1s 1ms/step - loss: nan - accuracy: 0.8491\n",
            "Epoch 98/100\n",
            "371/371 [==============================] - 1s 1ms/step - loss: nan - accuracy: 0.8491\n",
            "Epoch 99/100\n",
            "371/371 [==============================] - 1s 1ms/step - loss: nan - accuracy: 0.8491\n",
            "Epoch 100/100\n",
            "371/371 [==============================] - 1s 1ms/step - loss: nan - accuracy: 0.8491\n"
          ]
        },
        {
          "output_type": "execute_result",
          "data": {
            "text/plain": [
              "<keras.callbacks.History at 0x7f9254505550>"
            ]
          },
          "metadata": {},
          "execution_count": 29
        }
      ]
    },
    {
      "cell_type": "code",
      "source": [
        "y_pred = classifier.predict(X_test)\n",
        "y_pred = (y_pred > 0.5)"
      ],
      "metadata": {
        "id": "b8bE0OHYJpMF"
      },
      "execution_count": 30,
      "outputs": []
    },
    {
      "cell_type": "code",
      "source": [
        "cm = confusion_matrix(y_test,y_pred)\n",
        "cm"
      ],
      "metadata": {
        "colab": {
          "base_uri": "https://localhost:8080/"
        },
        "id": "g3gtxyOGJrrX",
        "outputId": "376232f5-56ea-4bab-b288-ea4ca6fc13a5"
      },
      "execution_count": 31,
      "outputs": [
        {
          "output_type": "execute_result",
          "data": {
            "text/plain": [
              "array([[1076,    0],\n",
              "       [ 196,    0]])"
            ]
          },
          "metadata": {},
          "execution_count": 31
        }
      ]
    },
    {
      "cell_type": "code",
      "source": [
        "accuracy = (cm[0][0]+cm[1][1])/(cm[0][1] + cm[1][0] +cm[0][0] +cm[1][1])\n",
        "print(accuracy*100)"
      ],
      "metadata": {
        "colab": {
          "base_uri": "https://localhost:8080/"
        },
        "id": "62pqkzpSJv55",
        "outputId": "2dd45dbe-351f-447c-e29d-0965b4b431b1"
      },
      "execution_count": 32,
      "outputs": [
        {
          "output_type": "stream",
          "name": "stdout",
          "text": [
            "84.59119496855347\n"
          ]
        }
      ]
    }
  ]
}