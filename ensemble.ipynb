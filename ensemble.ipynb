{
  "nbformat": 4,
  "nbformat_minor": 0,
  "metadata": {
    "colab": {
      "name": "ensemble.ipynb",
      "provenance": [],
      "collapsed_sections": [],
      "authorship_tag": "ABX9TyPeg5ost1IbYz8iIeUhoxhI",
      "include_colab_link": true
    },
    "kernelspec": {
      "name": "python3",
      "display_name": "Python 3"
    },
    "language_info": {
      "name": "python"
    }
  },
  "cells": [
    {
      "cell_type": "markdown",
      "metadata": {
        "id": "view-in-github",
        "colab_type": "text"
      },
      "source": [
        "<a href=\"https://colab.research.google.com/github/shylesh77/heart/blob/main/ensemble.ipynb\" target=\"_parent\"><img src=\"https://colab.research.google.com/assets/colab-badge.svg\" alt=\"Open In Colab\"/></a>"
      ]
    },
    {
      "cell_type": "code",
      "execution_count": null,
      "metadata": {
        "id": "AUHOUqwEa7AA"
      },
      "outputs": [],
      "source": [
        "from google.colab import drive"
      ]
    },
    {
      "cell_type": "code",
      "source": [
        "drive.mount('/content/drive')"
      ],
      "metadata": {
        "colab": {
          "base_uri": "https://localhost:8080/"
        },
        "id": "Ogz7zwPWdDdd",
        "outputId": "03833726-b479-469b-9eae-392875c00230"
      },
      "execution_count": null,
      "outputs": [
        {
          "output_type": "stream",
          "name": "stdout",
          "text": [
            "Drive already mounted at /content/drive; to attempt to forcibly remount, call drive.mount(\"/content/drive\", force_remount=True).\n"
          ]
        }
      ]
    },
    {
      "cell_type": "code",
      "source": [
        "import numpy as np\n",
        "import matplotlib.pyplot as plt\n",
        "import pandas as pd\n",
        "from sklearn.tree import DecisionTreeClassifier\n",
        "from sklearn.linear_model import LogisticRegression\n",
        "from sklearn.svm import SVC\n",
        "from sklearn.neighbors import KNeighborsClassifier\n",
        "from sklearn.naive_bayes import GaussianNB\n",
        "from sklearn.ensemble import VotingClassifier\n",
        "from sklearn import model_selection\n",
        "from sklearn.metrics import confusion_matrix\n",
        "from sklearn. preprocessing import StandardScaler\n",
        "from sklearn.model_selection import train_test_split"
      ],
      "metadata": {
        "id": "_OUNPBX_dLZ_"
      },
      "execution_count": null,
      "outputs": []
    },
    {
      "cell_type": "code",
      "source": [
        "data=pd.read_csv('/content/drive/My Drive/data science/framingham.csv')\n",
        "\n",
        "data.dropna(axis=0,inplace=True)"
      ],
      "metadata": {
        "id": "IgJ9rwUNdNoN"
      },
      "execution_count": null,
      "outputs": []
    },
    {
      "cell_type": "code",
      "source": [
        "X = data.iloc[:,:13].values\n",
        "Y = data[\"TenYearCHD\"].values"
      ],
      "metadata": {
        "id": "WvxQ3ZcedRBj"
      },
      "execution_count": null,
      "outputs": []
    },
    {
      "cell_type": "code",
      "source": [
        "X_train,X_test,Y_train, Y_test = train_test_split(X,Y,test_size = 0.3 , random_state = 0 )"
      ],
      "metadata": {
        "id": "uqBLqe_CdUWY"
      },
      "execution_count": null,
      "outputs": []
    },
    {
      "cell_type": "code",
      "source": [
        "from sklearn.preprocessing import StandardScaler\n",
        "sc = StandardScaler()\n",
        "X_train = sc.fit_transform(X_train)\n",
        "X_test = sc.transform(X_test)"
      ],
      "metadata": {
        "id": "7ez2Ks0-dcTC"
      },
      "execution_count": null,
      "outputs": []
    },
    {
      "cell_type": "code",
      "source": [
        "estimators = []\n",
        "\n"
      ],
      "metadata": {
        "id": "QbzQ_fP2dfjt"
      },
      "execution_count": null,
      "outputs": []
    },
    {
      "cell_type": "code",
      "source": [
        "model11 = LogisticRegression(penalty = 'l2', random_state = 0)"
      ],
      "metadata": {
        "id": "7K7x7i3Ydgjr"
      },
      "execution_count": null,
      "outputs": []
    },
    {
      "cell_type": "code",
      "source": [
        "estimators.append(('logistic1', model11))"
      ],
      "metadata": {
        "id": "OGTHrMT1djkG"
      },
      "execution_count": null,
      "outputs": []
    },
    {
      "cell_type": "code",
      "source": [
        "model12 = LogisticRegression(penalty = 'l2', random_state = 0)\n",
        "estimators.append(('logistic2', model12))"
      ],
      "metadata": {
        "id": "SdHIHirJdlUi"
      },
      "execution_count": null,
      "outputs": []
    },
    {
      "cell_type": "code",
      "source": [
        "model13 = LogisticRegression(penalty = 'l2', random_state = 0)\n",
        "estimators.append(('logistic3', model13))"
      ],
      "metadata": {
        "id": "yDkBMNendnHn"
      },
      "execution_count": null,
      "outputs": []
    },
    {
      "cell_type": "code",
      "source": [
        "model14 = LogisticRegression(penalty = 'l2', random_state = 0)\n",
        "estimators.append(('logistic4', model14))"
      ],
      "metadata": {
        "id": "cQIcCkL8dpFd"
      },
      "execution_count": null,
      "outputs": []
    },
    {
      "cell_type": "code",
      "source": [
        "model15 = LogisticRegression(penalty = 'l2', random_state = 0)\n",
        "estimators.append(('logistic5', model15))"
      ],
      "metadata": {
        "id": "YnTS-EkkdqiZ"
      },
      "execution_count": null,
      "outputs": []
    },
    {
      "cell_type": "code",
      "source": [
        "model16 = DecisionTreeClassifier(max_depth = 3)\n",
        "estimators.append(('cart1', model16))\n",
        "model17 = DecisionTreeClassifier(max_depth = 4)\n",
        "estimators.append(('cart2', model17))\n",
        "model18 = DecisionTreeClassifier(max_depth = 5)\n",
        "estimators.append(('cart3', model18))\n",
        "model19 = DecisionTreeClassifier(max_depth = 2)\n",
        "estimators.append(('cart4', model19))\n",
        "model20 = DecisionTreeClassifier(max_depth = 3)\n",
        "estimators.append(('cart5', model20))\n"
      ],
      "metadata": {
        "id": "lITUwrcydsZ-"
      },
      "execution_count": null,
      "outputs": []
    },
    {
      "cell_type": "code",
      "source": [
        "model21 = SVC(kernel = 'linear')\n",
        "estimators.append(('svm1', model21))\n",
        "model22 = SVC(kernel = 'poly')\n",
        "estimators.append(('svm2', model22))\n",
        "model23 = SVC(kernel = 'rbf')\n",
        "estimators.append(('svm3', model23))\n",
        "model24 = SVC(kernel = 'rbf')\n",
        "estimators.append(('svm4', model24))\n",
        "model25 = SVC(kernel = 'linear')\n",
        "estimators.append(('svm5', model25))"
      ],
      "metadata": {
        "id": "INqor6EudtWU"
      },
      "execution_count": null,
      "outputs": []
    },
    {
      "cell_type": "code",
      "source": [
        "model26 = KNeighborsClassifier(n_neighbors = 5, metric = 'minkowski', p = 2)\n",
        "estimators.append(('knn1', model26))\n",
        "model27 = KNeighborsClassifier(n_neighbors = 5, metric = 'minkowski', p = 2)\n",
        "estimators.append(('knn2', model27))\n",
        "model28 = KNeighborsClassifier(n_neighbors = 6, metric = 'minkowski', p = 2)\n",
        "estimators.append(('knn3', model28))\n",
        "model29 = KNeighborsClassifier(n_neighbors = 4, metric = 'minkowski', p = 1)\n",
        "estimators.append(('knn4', model29))\n",
        "model30 = KNeighborsClassifier(n_neighbors = 5, metric = 'minkowski', p = 1)\n",
        "estimators.append(('knn5', model30))"
      ],
      "metadata": {
        "id": "_aCKEEcKdx4E"
      },
      "execution_count": null,
      "outputs": []
    },
    {
      "cell_type": "code",
      "source": [
        "model31 = GaussianNB()\n",
        "estimators.append(('nbs1', model31))\n",
        "model32 = GaussianNB()\n",
        "estimators.append(('nbs2', model32))\n",
        "model33 = GaussianNB()\n",
        "estimators.append(('nbs3', model33))\n",
        "model34 = GaussianNB()\n",
        "estimators.append(('nbs4', model34))\n",
        "model35 = GaussianNB()\n",
        "estimators.append(('nbs5', model35))"
      ],
      "metadata": {
        "id": "q0k8I11QdzEW"
      },
      "execution_count": null,
      "outputs": []
    },
    {
      "cell_type": "code",
      "source": [
        "ensemble = VotingClassifier(estimators)"
      ],
      "metadata": {
        "id": "ckdN9zdwd2lg"
      },
      "execution_count": null,
      "outputs": []
    },
    {
      "cell_type": "code",
      "source": [
        "ensemble.fit(X_train, Y_train)"
      ],
      "metadata": {
        "colab": {
          "base_uri": "https://localhost:8080/"
        },
        "id": "U8cIgtpOd4yM",
        "outputId": "f4fb6185-25f8-463d-d4e3-c4a7d18541cd"
      },
      "execution_count": null,
      "outputs": [
        {
          "output_type": "execute_result",
          "data": {
            "text/plain": [
              "VotingClassifier(estimators=[('logistic1', LogisticRegression(random_state=0)),\n",
              "                             ('logistic2', LogisticRegression(random_state=0)),\n",
              "                             ('logistic3', LogisticRegression(random_state=0)),\n",
              "                             ('logistic4', LogisticRegression(random_state=0)),\n",
              "                             ('logistic5', LogisticRegression(random_state=0)),\n",
              "                             ('cart1', DecisionTreeClassifier(max_depth=3)),\n",
              "                             ('cart2', DecisionTreeClassifie...\n",
              "                             ('svm2', SVC(kernel='poly')), ('svm3', SVC()),\n",
              "                             ('svm4', SVC()), ('svm5', SVC(kernel='linear')),\n",
              "                             ('knn1', KNeighborsClassifier()),\n",
              "                             ('knn2', KNeighborsClassifier()),\n",
              "                             ('knn3', KNeighborsClassifier(n_neighbors=6)),\n",
              "                             ('knn4', KNeighborsClassifier(n_neighbors=4, p=1)),\n",
              "                             ('knn5', KNeighborsClassifier(p=1)),\n",
              "                             ('nbs1', GaussianNB()), ('nbs2', GaussianNB()),\n",
              "                             ('nbs3', GaussianNB()), ('nbs4', GaussianNB()),\n",
              "                             ('nbs5', GaussianNB())])"
            ]
          },
          "metadata": {},
          "execution_count": 42
        }
      ]
    },
    {
      "cell_type": "code",
      "source": [
        "y_pred = ensemble.predict(X_test)"
      ],
      "metadata": {
        "id": "3W4V1aaJeMSv"
      },
      "execution_count": null,
      "outputs": []
    },
    {
      "cell_type": "code",
      "source": [
        "cm = confusion_matrix(Y_test, y_pred)"
      ],
      "metadata": {
        "id": "8scmjLDNeR9u"
      },
      "execution_count": null,
      "outputs": []
    },
    {
      "cell_type": "code",
      "source": [
        "seed = 7"
      ],
      "metadata": {
        "id": "Ao46UQ2beTqO"
      },
      "execution_count": null,
      "outputs": []
    },
    {
      "cell_type": "code",
      "source": [
        "accuracy = (cm[0][0]+cm[1][1])/(cm[0][1] + cm[1][0] +cm[0][0] +cm[1][1])"
      ],
      "metadata": {
        "id": "b_YAKsdXehaV"
      },
      "execution_count": null,
      "outputs": []
    },
    {
      "cell_type": "code",
      "source": [
        "print(accuracy*100)"
      ],
      "metadata": {
        "colab": {
          "base_uri": "https://localhost:8080/"
        },
        "id": "2iYCxRpLe3_b",
        "outputId": "f933ac85-46aa-4c3d-a031-ba382ac1848c"
      },
      "execution_count": null,
      "outputs": [
        {
          "output_type": "stream",
          "name": "stdout",
          "text": [
            "84.10301953818828\n"
          ]
        }
      ]
    }
  ]
}